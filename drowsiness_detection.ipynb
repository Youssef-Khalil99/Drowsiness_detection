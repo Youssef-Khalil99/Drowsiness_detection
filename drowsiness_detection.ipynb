{
 "cells": [
  {
   "cell_type": "code",
   "execution_count": 5,
   "id": "c8ba0b34",
   "metadata": {},
   "outputs": [],
   "source": [
    "import numpy as np \n",
    "import pandas as pd\n",
    "import os\n",
    "from PIL import Image\n",
    "import seaborn as sns\n",
    "import matplotlib.pyplot as plt\n",
    "import tensorflow as tf\n",
    "%matplotlib inline\n",
    "import warnings, cv2\n",
    "warnings.filterwarnings('ignore')\n",
    "from tqdm.notebook import tqdm\n",
    "from keras.models import Sequential, load_model\n",
    "from keras.layers import Conv2D, MaxPooling2D, Dense, Flatten, Dropout, BatchNormalization\n",
    "from sklearn.preprocessing import LabelEncoder\n",
    "from tensorflow.keras.utils import to_categorical\n",
    "from keras.callbacks import EarlyStopping, ReduceLROnPlateau, ModelCheckpoint"
   ]
  },
  {
   "cell_type": "code",
   "execution_count": 2,
   "id": "844e72e7",
   "metadata": {},
   "outputs": [],
   "source": [
    "train_dir = \"dataset_new/train/\"\n",
    "test_dir = \"dataset_new/test/\""
   ]
  },
  {
   "cell_type": "code",
   "execution_count": 3,
   "id": "e0591aa0",
   "metadata": {},
   "outputs": [],
   "source": [
    "def load_images(directory):\n",
    "    images = []\n",
    "    labels = []\n",
    "    \n",
    "    for category in os.listdir(directory):\n",
    "        for filename in tqdm(os.listdir(directory+category)):\n",
    "            image_path = os.path.join(directory,category,filename)\n",
    "            image = cv2.imread(image_path)\n",
    "            image = cv2.cvtColor(image,cv2.COLOR_BGR2RGB)\n",
    "            image = cv2.resize(image,(224,224))\n",
    "            images.append(image)\n",
    "            labels.append(category)\n",
    "    \n",
    "    images = np.array(images,dtype='float32')\n",
    "    return images, labels"
   ]
  },
  {
   "cell_type": "code",
   "execution_count": 6,
   "id": "69605d3e",
   "metadata": {},
   "outputs": [
    {
     "data": {
      "application/vnd.jupyter.widget-view+json": {
       "model_id": "39ca89d8605f40069c2d0cbfa81bfd87",
       "version_major": 2,
       "version_minor": 0
      },
      "text/plain": [
       "  0%|          | 0/617 [00:00<?, ?it/s]"
      ]
     },
     "metadata": {},
     "output_type": "display_data"
    },
    {
     "data": {
      "application/vnd.jupyter.widget-view+json": {
       "model_id": "a8fc1d1631904988a0d1e501f4c67403",
       "version_major": 2,
       "version_minor": 0
      },
      "text/plain": [
       "  0%|          | 0/616 [00:00<?, ?it/s]"
      ]
     },
     "metadata": {},
     "output_type": "display_data"
    },
    {
     "data": {
      "application/vnd.jupyter.widget-view+json": {
       "model_id": "5c98c5db55d1433fb1d24935fc6a48b7",
       "version_major": 2,
       "version_minor": 0
      },
      "text/plain": [
       "  0%|          | 0/617 [00:00<?, ?it/s]"
      ]
     },
     "metadata": {},
     "output_type": "display_data"
    },
    {
     "data": {
      "application/vnd.jupyter.widget-view+json": {
       "model_id": "52e5d966018848ada33336571ce6af42",
       "version_major": 2,
       "version_minor": 0
      },
      "text/plain": [
       "  0%|          | 0/617 [00:00<?, ?it/s]"
      ]
     },
     "metadata": {},
     "output_type": "display_data"
    },
    {
     "data": {
      "application/vnd.jupyter.widget-view+json": {
       "model_id": "9a4852e3ba794132a2b7a6ae03435d9e",
       "version_major": 2,
       "version_minor": 0
      },
      "text/plain": [
       "  0%|          | 0/109 [00:00<?, ?it/s]"
      ]
     },
     "metadata": {},
     "output_type": "display_data"
    },
    {
     "data": {
      "application/vnd.jupyter.widget-view+json": {
       "model_id": "3fb3f8d1bc33461587d1db02a4580d3c",
       "version_major": 2,
       "version_minor": 0
      },
      "text/plain": [
       "  0%|          | 0/109 [00:00<?, ?it/s]"
      ]
     },
     "metadata": {},
     "output_type": "display_data"
    },
    {
     "data": {
      "application/vnd.jupyter.widget-view+json": {
       "model_id": "9d1874c60faa42b4b3e605c39d8ec30f",
       "version_major": 2,
       "version_minor": 0
      },
      "text/plain": [
       "  0%|          | 0/109 [00:00<?, ?it/s]"
      ]
     },
     "metadata": {},
     "output_type": "display_data"
    },
    {
     "data": {
      "application/vnd.jupyter.widget-view+json": {
       "model_id": "fcdeae56dabd4d3eb255d8923eb6fabe",
       "version_major": 2,
       "version_minor": 0
      },
      "text/plain": [
       "  0%|          | 0/106 [00:00<?, ?it/s]"
      ]
     },
     "metadata": {},
     "output_type": "display_data"
    }
   ],
   "source": [
    "X_train, y_train = load_images(train_dir)\n",
    "X_test, y_test = load_images(test_dir)"
   ]
  },
  {
   "cell_type": "code",
   "execution_count": 7,
   "id": "b288dcc7",
   "metadata": {},
   "outputs": [],
   "source": [
    "X_train = X_train / 255.\n",
    "X_test = X_test / 255."
   ]
  },
  {
   "cell_type": "code",
   "execution_count": 8,
   "id": "fa3e1dd7",
   "metadata": {},
   "outputs": [],
   "source": [
    "encoder = LabelEncoder()\n",
    "y_train = encoder.fit_transform(y_train)\n",
    "y_test = encoder.transform(y_test)\n",
    "y_train = to_categorical(y_train)\n",
    "y_test = to_categorical(y_test)"
   ]
  },
  {
   "cell_type": "code",
   "execution_count": 9,
   "id": "0ff89ef2",
   "metadata": {},
   "outputs": [],
   "source": [
    "cnn = Sequential()\n",
    "\n",
    "cnn.add(Conv2D(filters=16,kernel_size=3,activation='relu',input_shape=(224,224,3)))\n",
    "cnn.add(MaxPooling2D(pool_size=2))\n",
    "\n",
    "cnn.add(Conv2D(filters=32,kernel_size=3,activation='relu',padding='same'))\n",
    "cnn.add(MaxPooling2D(pool_size=2))\n",
    "cnn.add(BatchNormalization())\n",
    "cnn.add(Dropout(0.5))\n",
    "\n",
    "cnn.add(Conv2D(filters=64,kernel_size=3,activation='relu'))\n",
    "cnn.add(MaxPooling2D(pool_size=2))\n",
    "cnn.add(BatchNormalization())\n",
    "cnn.add(Dropout(0.2))\n",
    "\n",
    "cnn.add(Conv2D(filters=128,kernel_size=3,activation='relu'))\n",
    "cnn.add(MaxPooling2D(pool_size=2))\n",
    "cnn.add(BatchNormalization())\n",
    "cnn.add(Dropout(0.25))\n",
    "\n",
    "cnn.add(Flatten())\n",
    "\n",
    "cnn.add(Dense(units=128,activation='relu'))\n",
    "cnn.add(BatchNormalization())\n",
    "cnn.add(Dropout(0.25))\n",
    "\n",
    "cnn.add(Dense(units=4,activation='softmax'))"
   ]
  },
  {
   "cell_type": "code",
   "execution_count": 10,
   "id": "643659b3",
   "metadata": {},
   "outputs": [
    {
     "name": "stdout",
     "output_type": "stream",
     "text": [
      "Model: \"sequential\"\n",
      "_________________________________________________________________\n",
      " Layer (type)                Output Shape              Param #   \n",
      "=================================================================\n",
      " conv2d (Conv2D)             (None, 222, 222, 16)      448       \n",
      "                                                                 \n",
      " max_pooling2d (MaxPooling2  (None, 111, 111, 16)      0         \n",
      " D)                                                              \n",
      "                                                                 \n",
      " conv2d_1 (Conv2D)           (None, 111, 111, 32)      4640      \n",
      "                                                                 \n",
      " max_pooling2d_1 (MaxPoolin  (None, 55, 55, 32)        0         \n",
      " g2D)                                                            \n",
      "                                                                 \n",
      " batch_normalization (Batch  (None, 55, 55, 32)        128       \n",
      " Normalization)                                                  \n",
      "                                                                 \n",
      " dropout (Dropout)           (None, 55, 55, 32)        0         \n",
      "                                                                 \n",
      " conv2d_2 (Conv2D)           (None, 53, 53, 64)        18496     \n",
      "                                                                 \n",
      " max_pooling2d_2 (MaxPoolin  (None, 26, 26, 64)        0         \n",
      " g2D)                                                            \n",
      "                                                                 \n",
      " batch_normalization_1 (Bat  (None, 26, 26, 64)        256       \n",
      " chNormalization)                                                \n",
      "                                                                 \n",
      " dropout_1 (Dropout)         (None, 26, 26, 64)        0         \n",
      "                                                                 \n",
      " conv2d_3 (Conv2D)           (None, 24, 24, 128)       73856     \n",
      "                                                                 \n",
      " max_pooling2d_3 (MaxPoolin  (None, 12, 12, 128)       0         \n",
      " g2D)                                                            \n",
      "                                                                 \n",
      " batch_normalization_2 (Bat  (None, 12, 12, 128)       512       \n",
      " chNormalization)                                                \n",
      "                                                                 \n",
      " dropout_2 (Dropout)         (None, 12, 12, 128)       0         \n",
      "                                                                 \n",
      " flatten (Flatten)           (None, 18432)             0         \n",
      "                                                                 \n",
      " dense (Dense)               (None, 128)               2359424   \n",
      "                                                                 \n",
      " batch_normalization_3 (Bat  (None, 128)               512       \n",
      " chNormalization)                                                \n",
      "                                                                 \n",
      " dropout_3 (Dropout)         (None, 128)               0         \n",
      "                                                                 \n",
      " dense_1 (Dense)             (None, 4)                 516       \n",
      "                                                                 \n",
      "=================================================================\n",
      "Total params: 2458788 (9.38 MB)\n",
      "Trainable params: 2458084 (9.38 MB)\n",
      "Non-trainable params: 704 (2.75 KB)\n",
      "_________________________________________________________________\n"
     ]
    }
   ],
   "source": [
    "cnn.summary()"
   ]
  },
  {
   "cell_type": "code",
   "execution_count": 11,
   "id": "aa67ef85",
   "metadata": {},
   "outputs": [],
   "source": [
    "cnn.compile(loss='categorical_crossentropy',optimizer='adam',metrics='accuracy')"
   ]
  },
  {
   "cell_type": "code",
   "execution_count": 12,
   "id": "2af021b7",
   "metadata": {},
   "outputs": [
    {
     "name": "stdout",
     "output_type": "stream",
     "text": [
      "Epoch 1/50\n",
      "78/78 [==============================] - ETA: 0s - loss: 0.5739 - accuracy: 0.7349\n",
      "Epoch 1: val_accuracy improved from -inf to 0.40416, saving model to checkpoint\\\n",
      "78/78 [==============================] - 40s 486ms/step - loss: 0.5739 - accuracy: 0.7349 - val_loss: 3.9847 - val_accuracy: 0.4042 - lr: 0.0010\n",
      "Epoch 2/50\n",
      "78/78 [==============================] - ETA: 0s - loss: 0.3926 - accuracy: 0.8062\n",
      "Epoch 2: val_accuracy did not improve from 0.40416\n",
      "78/78 [==============================] - 38s 482ms/step - loss: 0.3926 - accuracy: 0.8062 - val_loss: 6.2379 - val_accuracy: 0.2517 - lr: 0.0010\n",
      "Epoch 3/50\n",
      "78/78 [==============================] - ETA: 0s - loss: 0.3402 - accuracy: 0.8500\n",
      "Epoch 3: val_accuracy did not improve from 0.40416\n",
      "78/78 [==============================] - 37s 479ms/step - loss: 0.3402 - accuracy: 0.8500 - val_loss: 3.9107 - val_accuracy: 0.4018 - lr: 0.0010\n",
      "Epoch 4/50\n",
      "78/78 [==============================] - ETA: 0s - loss: 0.3297 - accuracy: 0.8557\n",
      "Epoch 4: val_accuracy did not improve from 0.40416\n",
      "78/78 [==============================] - 38s 482ms/step - loss: 0.3297 - accuracy: 0.8557 - val_loss: 4.0990 - val_accuracy: 0.3072 - lr: 0.0010\n",
      "Epoch 5/50\n",
      "78/78 [==============================] - ETA: 0s - loss: 0.2778 - accuracy: 0.8675\n",
      "Epoch 5: val_accuracy did not improve from 0.40416\n",
      "78/78 [==============================] - 37s 476ms/step - loss: 0.2778 - accuracy: 0.8675 - val_loss: 4.0514 - val_accuracy: 0.3487 - lr: 0.0010\n",
      "Epoch 6/50\n",
      "78/78 [==============================] - ETA: 0s - loss: 0.2274 - accuracy: 0.9003\n",
      "Epoch 6: val_accuracy improved from 0.40416 to 0.43418, saving model to checkpoint\\\n",
      "78/78 [==============================] - 37s 477ms/step - loss: 0.2274 - accuracy: 0.9003 - val_loss: 2.9717 - val_accuracy: 0.4342 - lr: 0.0010\n",
      "Epoch 7/50\n",
      "78/78 [==============================] - ETA: 0s - loss: 0.1834 - accuracy: 0.9270\n",
      "Epoch 7: val_accuracy improved from 0.43418 to 0.54734, saving model to checkpoint\\\n",
      "78/78 [==============================] - 38s 482ms/step - loss: 0.1834 - accuracy: 0.9270 - val_loss: 1.1314 - val_accuracy: 0.5473 - lr: 0.0010\n",
      "Epoch 8/50\n",
      "78/78 [==============================] - ETA: 0s - loss: 0.1584 - accuracy: 0.9351\n",
      "Epoch 8: val_accuracy improved from 0.54734 to 0.88222, saving model to checkpoint\\\n",
      "78/78 [==============================] - 38s 481ms/step - loss: 0.1584 - accuracy: 0.9351 - val_loss: 0.2911 - val_accuracy: 0.8822 - lr: 0.0010\n",
      "Epoch 9/50\n",
      "78/78 [==============================] - ETA: 0s - loss: 0.1310 - accuracy: 0.9538\n",
      "Epoch 9: val_accuracy improved from 0.88222 to 0.91917, saving model to checkpoint\\\n",
      "78/78 [==============================] - 37s 480ms/step - loss: 0.1310 - accuracy: 0.9538 - val_loss: 0.2693 - val_accuracy: 0.9192 - lr: 0.0010\n",
      "Epoch 10/50\n",
      "78/78 [==============================] - ETA: 0s - loss: 0.0997 - accuracy: 0.9660\n",
      "Epoch 10: val_accuracy did not improve from 0.91917\n",
      "78/78 [==============================] - 37s 480ms/step - loss: 0.0997 - accuracy: 0.9660 - val_loss: 0.3861 - val_accuracy: 0.8684 - lr: 0.0010\n",
      "Epoch 11/50\n",
      "78/78 [==============================] - ETA: 0s - loss: 0.0835 - accuracy: 0.9688\n",
      "Epoch 11: val_accuracy did not improve from 0.91917\n",
      "78/78 [==============================] - 37s 481ms/step - loss: 0.0835 - accuracy: 0.9688 - val_loss: 0.2719 - val_accuracy: 0.8961 - lr: 0.0010\n",
      "Epoch 12/50\n",
      "78/78 [==============================] - ETA: 0s - loss: 0.0912 - accuracy: 0.9651\n",
      "Epoch 12: val_accuracy improved from 0.91917 to 0.94919, saving model to checkpoint\\\n",
      "78/78 [==============================] - 37s 474ms/step - loss: 0.0912 - accuracy: 0.9651 - val_loss: 0.1550 - val_accuracy: 0.9492 - lr: 0.0010\n",
      "Epoch 13/50\n",
      "78/78 [==============================] - ETA: 0s - loss: 0.0647 - accuracy: 0.9797\n",
      "Epoch 13: val_accuracy did not improve from 0.94919\n",
      "78/78 [==============================] - 37s 469ms/step - loss: 0.0647 - accuracy: 0.9797 - val_loss: 0.2200 - val_accuracy: 0.9284 - lr: 0.0010\n",
      "Epoch 14/50\n",
      "78/78 [==============================] - ETA: 0s - loss: 0.0664 - accuracy: 0.9732\n",
      "Epoch 14: val_accuracy improved from 0.94919 to 0.97921, saving model to checkpoint\\\n",
      "78/78 [==============================] - 37s 470ms/step - loss: 0.0664 - accuracy: 0.9732 - val_loss: 0.0728 - val_accuracy: 0.9792 - lr: 0.0010\n",
      "Epoch 15/50\n",
      "78/78 [==============================] - ETA: 0s - loss: 0.0524 - accuracy: 0.9822\n",
      "Epoch 15: val_accuracy did not improve from 0.97921\n",
      "78/78 [==============================] - 37s 469ms/step - loss: 0.0524 - accuracy: 0.9822 - val_loss: 0.0947 - val_accuracy: 0.9769 - lr: 0.0010\n",
      "Epoch 16/50\n",
      "78/78 [==============================] - ETA: 0s - loss: 0.0483 - accuracy: 0.9830\n",
      "Epoch 16: val_accuracy did not improve from 0.97921\n",
      "78/78 [==============================] - 37s 472ms/step - loss: 0.0483 - accuracy: 0.9830 - val_loss: 0.1997 - val_accuracy: 0.9423 - lr: 0.0010\n",
      "Epoch 17/50\n",
      "78/78 [==============================] - ETA: 0s - loss: 0.0503 - accuracy: 0.9830\n",
      "Epoch 17: val_accuracy did not improve from 0.97921\n",
      "78/78 [==============================] - 37s 475ms/step - loss: 0.0503 - accuracy: 0.9830 - val_loss: 0.0698 - val_accuracy: 0.9792 - lr: 0.0010\n",
      "Epoch 18/50\n",
      "78/78 [==============================] - ETA: 0s - loss: 0.0471 - accuracy: 0.9830\n",
      "Epoch 18: val_accuracy did not improve from 0.97921\n",
      "78/78 [==============================] - 37s 470ms/step - loss: 0.0471 - accuracy: 0.9830 - val_loss: 0.1776 - val_accuracy: 0.9376 - lr: 0.0010\n",
      "Epoch 19/50\n",
      "78/78 [==============================] - ETA: 0s - loss: 0.0452 - accuracy: 0.9870\n",
      "Epoch 19: val_accuracy did not improve from 0.97921\n",
      "78/78 [==============================] - 37s 475ms/step - loss: 0.0452 - accuracy: 0.9870 - val_loss: 0.0750 - val_accuracy: 0.9700 - lr: 0.0010\n",
      "Epoch 20/50\n",
      "78/78 [==============================] - ETA: 0s - loss: 0.0432 - accuracy: 0.9846\n",
      "Epoch 20: val_accuracy did not improve from 0.97921\n",
      "78/78 [==============================] - 37s 480ms/step - loss: 0.0432 - accuracy: 0.9846 - val_loss: 0.0652 - val_accuracy: 0.9792 - lr: 0.0010\n",
      "Epoch 21/50\n",
      "78/78 [==============================] - ETA: 0s - loss: 0.0334 - accuracy: 0.9878\n",
      "Epoch 21: val_accuracy did not improve from 0.97921\n",
      "78/78 [==============================] - 38s 481ms/step - loss: 0.0334 - accuracy: 0.9878 - val_loss: 0.1288 - val_accuracy: 0.9561 - lr: 0.0010\n",
      "Epoch 22/50\n",
      "78/78 [==============================] - ETA: 0s - loss: 0.0654 - accuracy: 0.9753\n",
      "Epoch 22: val_accuracy did not improve from 0.97921\n",
      "78/78 [==============================] - 37s 470ms/step - loss: 0.0654 - accuracy: 0.9753 - val_loss: 0.0846 - val_accuracy: 0.9769 - lr: 0.0010\n",
      "Epoch 23/50\n",
      "78/78 [==============================] - ETA: 0s - loss: 0.0347 - accuracy: 0.9899\n",
      "Epoch 23: val_accuracy did not improve from 0.97921\n",
      "78/78 [==============================] - 37s 468ms/step - loss: 0.0347 - accuracy: 0.9899 - val_loss: 0.0587 - val_accuracy: 0.9792 - lr: 0.0010\n",
      "Epoch 24/50\n",
      "78/78 [==============================] - ETA: 0s - loss: 0.0314 - accuracy: 0.9907\n",
      "Epoch 24: val_accuracy did not improve from 0.97921\n",
      "78/78 [==============================] - 36s 466ms/step - loss: 0.0314 - accuracy: 0.9907 - val_loss: 0.0769 - val_accuracy: 0.9792 - lr: 0.0010\n",
      "Epoch 25/50\n",
      "78/78 [==============================] - ETA: 0s - loss: 0.0241 - accuracy: 0.9931\n",
      "Epoch 25: val_accuracy improved from 0.97921 to 0.98152, saving model to checkpoint\\\n",
      "78/78 [==============================] - 37s 470ms/step - loss: 0.0241 - accuracy: 0.9931 - val_loss: 0.0815 - val_accuracy: 0.9815 - lr: 0.0010\n",
      "Epoch 26/50\n",
      "78/78 [==============================] - ETA: 0s - loss: 0.0587 - accuracy: 0.9793\n",
      "Epoch 26: val_accuracy did not improve from 0.98152\n",
      "78/78 [==============================] - 37s 469ms/step - loss: 0.0587 - accuracy: 0.9793 - val_loss: 0.4313 - val_accuracy: 0.8614 - lr: 0.0010\n",
      "Epoch 27/50\n",
      "78/78 [==============================] - ETA: 0s - loss: 0.0299 - accuracy: 0.9907\n",
      "Epoch 27: val_accuracy did not improve from 0.98152\n",
      "78/78 [==============================] - 36s 467ms/step - loss: 0.0299 - accuracy: 0.9907 - val_loss: 0.0779 - val_accuracy: 0.9769 - lr: 0.0010\n",
      "Epoch 28/50\n"
     ]
    },
    {
     "name": "stdout",
     "output_type": "stream",
     "text": [
      "78/78 [==============================] - ETA: 0s - loss: 0.0382 - accuracy: 0.9854\n",
      "Epoch 28: val_accuracy did not improve from 0.98152\n",
      "78/78 [==============================] - 36s 467ms/step - loss: 0.0382 - accuracy: 0.9854 - val_loss: 0.0715 - val_accuracy: 0.9815 - lr: 0.0010\n",
      "Epoch 29/50\n",
      "78/78 [==============================] - ETA: 0s - loss: 0.0329 - accuracy: 0.9878\n",
      "Epoch 29: val_accuracy improved from 0.98152 to 0.98383, saving model to checkpoint\\\n",
      "78/78 [==============================] - 37s 469ms/step - loss: 0.0329 - accuracy: 0.9878 - val_loss: 0.0610 - val_accuracy: 0.9838 - lr: 0.0010\n",
      "Epoch 30/50\n",
      "78/78 [==============================] - ETA: 0s - loss: 0.0334 - accuracy: 0.9899\n",
      "Epoch 30: val_accuracy did not improve from 0.98383\n",
      "78/78 [==============================] - 36s 467ms/step - loss: 0.0334 - accuracy: 0.9899 - val_loss: 0.0547 - val_accuracy: 0.9815 - lr: 0.0010\n",
      "Epoch 31/50\n",
      "78/78 [==============================] - ETA: 0s - loss: 0.0324 - accuracy: 0.9891\n",
      "Epoch 31: val_accuracy did not improve from 0.98383\n",
      "78/78 [==============================] - 37s 479ms/step - loss: 0.0324 - accuracy: 0.9891 - val_loss: 0.0769 - val_accuracy: 0.9723 - lr: 0.0010\n",
      "Epoch 32/50\n",
      "78/78 [==============================] - ETA: 0s - loss: 0.0237 - accuracy: 0.9923\n",
      "Epoch 32: val_accuracy did not improve from 0.98383\n",
      "78/78 [==============================] - 38s 482ms/step - loss: 0.0237 - accuracy: 0.9923 - val_loss: 0.0758 - val_accuracy: 0.9677 - lr: 0.0010\n",
      "Epoch 33/50\n",
      "78/78 [==============================] - ETA: 0s - loss: 0.0347 - accuracy: 0.9887\n",
      "Epoch 33: val_accuracy did not improve from 0.98383\n",
      "78/78 [==============================] - 37s 476ms/step - loss: 0.0347 - accuracy: 0.9887 - val_loss: 0.0526 - val_accuracy: 0.9792 - lr: 0.0010\n",
      "Epoch 34/50\n",
      "78/78 [==============================] - ETA: 0s - loss: 0.0272 - accuracy: 0.9903\n",
      "Epoch 34: val_accuracy did not improve from 0.98383\n",
      "78/78 [==============================] - 37s 475ms/step - loss: 0.0272 - accuracy: 0.9903 - val_loss: 0.0754 - val_accuracy: 0.9746 - lr: 0.0010\n",
      "Epoch 35/50\n",
      "78/78 [==============================] - ETA: 0s - loss: 0.0168 - accuracy: 0.9947\n",
      "Epoch 35: val_accuracy did not improve from 0.98383\n",
      "78/78 [==============================] - 37s 475ms/step - loss: 0.0168 - accuracy: 0.9947 - val_loss: 0.0466 - val_accuracy: 0.9838 - lr: 0.0010\n",
      "Epoch 36/50\n",
      "78/78 [==============================] - ETA: 0s - loss: 0.0115 - accuracy: 0.9972\n",
      "Epoch 36: val_accuracy did not improve from 0.98383\n",
      "78/78 [==============================] - 37s 476ms/step - loss: 0.0115 - accuracy: 0.9972 - val_loss: 0.0921 - val_accuracy: 0.9677 - lr: 0.0010\n",
      "Epoch 37/50\n",
      "78/78 [==============================] - ETA: 0s - loss: 0.0893 - accuracy: 0.9708\n",
      "Epoch 37: val_accuracy did not improve from 0.98383\n",
      "78/78 [==============================] - 37s 477ms/step - loss: 0.0893 - accuracy: 0.9708 - val_loss: 0.1115 - val_accuracy: 0.9677 - lr: 0.0010\n",
      "Epoch 38/50\n",
      "78/78 [==============================] - ETA: 0s - loss: 0.0385 - accuracy: 0.9846\n",
      "Epoch 38: val_accuracy did not improve from 0.98383\n",
      "78/78 [==============================] - 37s 476ms/step - loss: 0.0385 - accuracy: 0.9846 - val_loss: 0.0521 - val_accuracy: 0.9815 - lr: 0.0010\n",
      "Epoch 39/50\n",
      "78/78 [==============================] - ETA: 0s - loss: 0.0311 - accuracy: 0.9919\n",
      "Epoch 39: val_accuracy improved from 0.98383 to 0.98614, saving model to checkpoint\\\n",
      "78/78 [==============================] - 37s 478ms/step - loss: 0.0311 - accuracy: 0.9919 - val_loss: 0.0363 - val_accuracy: 0.9861 - lr: 0.0010\n",
      "Epoch 40/50\n",
      "78/78 [==============================] - ETA: 0s - loss: 0.0215 - accuracy: 0.9935\n",
      "Epoch 40: val_accuracy did not improve from 0.98614\n",
      "78/78 [==============================] - 37s 476ms/step - loss: 0.0215 - accuracy: 0.9935 - val_loss: 0.0377 - val_accuracy: 0.9861 - lr: 0.0010\n",
      "Epoch 41/50\n",
      "78/78 [==============================] - ETA: 0s - loss: 0.0164 - accuracy: 0.9951\n",
      "Epoch 41: val_accuracy did not improve from 0.98614\n",
      "78/78 [==============================] - 37s 475ms/step - loss: 0.0164 - accuracy: 0.9951 - val_loss: 0.0668 - val_accuracy: 0.9769 - lr: 0.0010\n",
      "Epoch 42/50\n",
      "78/78 [==============================] - ETA: 0s - loss: 0.0571 - accuracy: 0.9797\n",
      "Epoch 42: val_accuracy did not improve from 0.98614\n",
      "78/78 [==============================] - 37s 475ms/step - loss: 0.0571 - accuracy: 0.9797 - val_loss: 0.1182 - val_accuracy: 0.9607 - lr: 0.0010\n",
      "Epoch 43/50\n",
      "78/78 [==============================] - ETA: 0s - loss: 0.0374 - accuracy: 0.9854\n",
      "Epoch 43: val_accuracy improved from 0.98614 to 0.98845, saving model to checkpoint\\\n",
      "78/78 [==============================] - 37s 478ms/step - loss: 0.0374 - accuracy: 0.9854 - val_loss: 0.0574 - val_accuracy: 0.9885 - lr: 0.0010\n",
      "Epoch 44/50\n",
      "78/78 [==============================] - ETA: 0s - loss: 0.0366 - accuracy: 0.9887\n",
      "Epoch 44: val_accuracy did not improve from 0.98845\n",
      "78/78 [==============================] - 37s 476ms/step - loss: 0.0366 - accuracy: 0.9887 - val_loss: 0.0976 - val_accuracy: 0.9630 - lr: 0.0010\n",
      "Epoch 45/50\n",
      "78/78 [==============================] - ETA: 0s - loss: 0.0573 - accuracy: 0.9757\n",
      "Epoch 45: val_accuracy did not improve from 0.98845\n",
      "78/78 [==============================] - 37s 477ms/step - loss: 0.0573 - accuracy: 0.9757 - val_loss: 0.0916 - val_accuracy: 0.9746 - lr: 0.0010\n",
      "Epoch 46/50\n",
      "78/78 [==============================] - ETA: 0s - loss: 0.0236 - accuracy: 0.9943\n",
      "Epoch 46: val_accuracy improved from 0.98845 to 0.99307, saving model to checkpoint\\\n",
      "78/78 [==============================] - 37s 479ms/step - loss: 0.0236 - accuracy: 0.9943 - val_loss: 0.0393 - val_accuracy: 0.9931 - lr: 0.0010\n",
      "Epoch 47/50\n",
      "78/78 [==============================] - ETA: 0s - loss: 0.0194 - accuracy: 0.9943\n",
      "Epoch 47: val_accuracy improved from 0.99307 to 0.99538, saving model to checkpoint\\\n",
      "78/78 [==============================] - 37s 479ms/step - loss: 0.0194 - accuracy: 0.9943 - val_loss: 0.0300 - val_accuracy: 0.9954 - lr: 0.0010\n",
      "Epoch 48/50\n",
      "78/78 [==============================] - ETA: 0s - loss: 0.0119 - accuracy: 0.9959\n",
      "Epoch 48: val_accuracy did not improve from 0.99538\n",
      "78/78 [==============================] - 37s 478ms/step - loss: 0.0119 - accuracy: 0.9959 - val_loss: 0.0362 - val_accuracy: 0.9885 - lr: 0.0010\n",
      "Epoch 49/50\n",
      "78/78 [==============================] - ETA: 0s - loss: 0.0251 - accuracy: 0.9947\n",
      "Epoch 49: val_accuracy did not improve from 0.99538\n",
      "78/78 [==============================] - 37s 477ms/step - loss: 0.0251 - accuracy: 0.9947 - val_loss: 0.0525 - val_accuracy: 0.9885 - lr: 0.0010\n",
      "Epoch 50/50\n",
      "78/78 [==============================] - ETA: 0s - loss: 0.0181 - accuracy: 0.9943\n",
      "Epoch 50: val_accuracy did not improve from 0.99538\n",
      "78/78 [==============================] - 37s 475ms/step - loss: 0.0181 - accuracy: 0.9943 - val_loss: 0.0449 - val_accuracy: 0.9931 - lr: 0.0010\n"
     ]
    }
   ],
   "source": [
    "early_stopping = EarlyStopping(monitor='val_accuracy',patience=20,mode='max',verbose=1,restore_best_weights=True)\n",
    "reduce_lr = ReduceLROnPlateau(monitor='val_accuracy',patience=5,mode='max',verbose=1,factor=0.1,min_lr=0.001)\n",
    "checkpoint_filename = 'checkpoint/'\n",
    "model_checkpoint = ModelCheckpoint(filepath=checkpoint_filename,monitor='val_accuracy',verbose=1,save_best_only=True,save_weights_only=True,mode='max')\n",
    "\n",
    "r = cnn.fit(x=X_train,\n",
    "            y=y_train,\n",
    "            epochs=50,\n",
    "            batch_size=32,\n",
    "            validation_data=(X_test,y_test),\n",
    "            callbacks=[early_stopping,reduce_lr,model_checkpoint])"
   ]
  },
  {
   "cell_type": "code",
   "execution_count": 13,
   "id": "94764bbe",
   "metadata": {},
   "outputs": [
    {
     "data": {
      "text/plain": [
       "<tensorflow.python.checkpoint.checkpoint.CheckpointLoadStatus at 0x276f695fa30>"
      ]
     },
     "execution_count": 13,
     "metadata": {},
     "output_type": "execute_result"
    }
   ],
   "source": [
    "cnn.load_weights(checkpoint_filename)"
   ]
  },
  {
   "cell_type": "code",
   "execution_count": 14,
   "id": "2e48902c",
   "metadata": {},
   "outputs": [
    {
     "data": {
      "image/png": "[encoded data removed]",
      "text/plain": [
       "<Figure size 1200x800 with 1 Axes>"
      ]
     },
     "metadata": {},
     "output_type": "display_data"
    }
   ],
   "source": [
    "plt.figure(figsize=(12,8))\n",
    "plt.plot(r.history['loss'],'r',label='train loss')\n",
    "plt.plot(r.history['val_loss'],'b',label='test loss')\n",
    "plt.xlabel('Number of Epochs')\n",
    "plt.ylabel('Loss')\n",
    "plt.title('Loss Graph')\n",
    "plt.legend();"
   ]
  },
  {
   "cell_type": "code",
   "execution_count": 15,
   "id": "57eee085",
   "metadata": {},
   "outputs": [
    {
     "data": {
      "image/png": "[encoded data removed]",
      "text/plain": [
       "<Figure size 1200x800 with 1 Axes>"
      ]
     },
     "metadata": {},
     "output_type": "display_data"
    }
   ],
   "source": [
    "plt.figure(figsize=(12,8))\n",
    "plt.plot(r.history['accuracy'],'r',label='train accuracy')\n",
    "plt.plot(r.history['val_accuracy'],'b',label='test accuracy')\n",
    "plt.xlabel('Number of Epochs')\n",
    "plt.ylabel('Accuracy')\n",
    "plt.title('Accuracy Graph')\n",
    "plt.legend();"
   ]
  },
  {
   "cell_type": "code",
   "execution_count": 17,
   "id": "52da9c8b",
   "metadata": {},
   "outputs": [],
   "source": [
    "cnn.save(filepath='drowsiness_detector.model',save_format='h5')\n",
    "model = load_model(filepath='drowsiness_detector.model')"
   ]
  }
 ],
 "metadata": {
  "kernelspec": {
   "display_name": "Python 3 (ipykernel)",
   "language": "python",
   "name": "python3"
  },
  "language_info": {
   "codemirror_mode": {
    "name": "ipython",
    "version": 3
   },
   "file_extension": ".py",
   "mimetype": "text/x-python",
   "name": "python",
   "nbconvert_exporter": "python",
   "pygments_lexer": "ipython3",
   "version": "3.10.9"
  }
 },
 "nbformat": 4,
 "nbformat_minor": 5
}
